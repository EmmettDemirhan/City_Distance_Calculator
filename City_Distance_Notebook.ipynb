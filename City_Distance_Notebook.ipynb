{
 "cells": [
  {
   "cell_type": "code",
   "execution_count": 5,
   "id": "49a85e6f",
   "metadata": {},
   "outputs": [
    {
     "name": "stdout",
     "output_type": "stream",
     "text": [
      "Requirement already satisfied: geopy in c:\\users\\demir\\appdata\\local\\programs\\python\\python311\\lib\\site-packages (2.3.0)\n",
      "Requirement already satisfied: geographiclib<3,>=1.52 in c:\\users\\demir\\appdata\\local\\programs\\python\\python311\\lib\\site-packages (from geopy) (2.0)\n",
      "Note: you may need to restart the kernel to use updated packages.\n"
     ]
    },
    {
     "name": "stderr",
     "output_type": "stream",
     "text": [
      "\n",
      "[notice] A new release of pip is available: 23.1.2 -> 23.2.1\n",
      "[notice] To update, run: python.exe -m pip install --upgrade pip\n"
     ]
    }
   ],
   "source": [
    "pip install geopy\n"
   ]
  },
  {
   "cell_type": "code",
   "execution_count": null,
   "id": "e92febfa",
   "metadata": {},
   "outputs": [],
   "source": []
  },
  {
   "cell_type": "code",
   "execution_count": 2,
   "id": "a5390895",
   "metadata": {},
   "outputs": [
    {
     "ename": "SystemExit",
     "evalue": "0",
     "output_type": "error",
     "traceback": [
      "An exception has occurred, use %tb to see the full traceback.\n",
      "\u001b[1;31mSystemExit\u001b[0m\u001b[1;31m:\u001b[0m 0\n"
     ]
    },
    {
     "name": "stderr",
     "output_type": "stream",
     "text": [
      "C:\\Users\\demir\\AppData\\Local\\Programs\\Python\\Python311\\Lib\\site-packages\\IPython\\core\\interactiveshell.py:3468: UserWarning: To exit: use 'exit', 'quit', or Ctrl-D.\n",
      "  warn(\"To exit: use 'exit', 'quit', or Ctrl-D.\", stacklevel=1)\n"
     ]
    }
   ],
   "source": [
    "import pandas as pd\n",
    "import os\n",
    "from PyQt5.QtWidgets import QApplication, QLabel, QWidget, QVBoxLayout, QLineEdit, QPushButton\n",
    "from geopy.distance import geodesic\n",
    "\n",
    "# Load CSV\n",
    "current_directory = os.getcwd()\n",
    "csv_path = os.path.join(current_directory, 'data', 'worldcities.csv')\n",
    "city_data = pd.read_csv(csv_path)\n",
    "\n",
    "def find_city_distance(city1, city2):\n",
    "    def get_city_info(city_name):\n",
    "        city_info = city_data.loc[city_data['city_ascii'].str.lower() == city_name.lower()]\n",
    "        return city_info.to_dict(orient='records')[0] if not city_info.empty else None\n",
    "\n",
    "    city1_info = get_city_info(city1)\n",
    "    city2_info = get_city_info(city2)\n",
    "\n",
    "    if city1_info and city2_info:\n",
    "        city1_coordinates = (city1_info[\"lat\"], city1_info[\"lng\"])\n",
    "        city2_coordinates = (city2_info[\"lat\"], city2_info[\"lng\"])\n",
    "        distance = geodesic(city1_coordinates, city2_coordinates).kilometers\n",
    "        return distance\n",
    "    return None\n",
    "\n",
    "app = QApplication([])\n",
    "\n",
    "window = QWidget()\n",
    "layout = QVBoxLayout()\n",
    "\n",
    "city1_entry = QLineEdit()\n",
    "city2_entry = QLineEdit()\n",
    "result_label = QLabel('Distance: ')\n",
    "calculate_button = QPushButton('Calculate Distance')\n",
    "\n",
    "def on_click():\n",
    "    city1 = city1_entry.text()\n",
    "    city2 = city2_entry.text()\n",
    "    distance = find_city_distance(city1, city2)\n",
    "    if distance:\n",
    "        result_label.setText(f\"Distance: {distance:.2f} km\")\n",
    "    else:\n",
    "        result_label.setText(\"One or both cities not found.\")\n",
    "\n",
    "calculate_button.clicked.connect(on_click)\n",
    "\n",
    "layout.addWidget(QLabel('Enter first city:'))\n",
    "layout.addWidget(city1_entry)\n",
    "layout.addWidget(QLabel('Enter second city:'))\n",
    "layout.addWidget(city2_entry)\n",
    "layout.addWidget(calculate_button)\n",
    "layout.addWidget(result_label)\n",
    "\n",
    "window.setLayout(layout)\n",
    "window.show()\n",
    "sys.exit(app.exec_())\n"
   ]
  },
  {
   "cell_type": "code",
   "execution_count": null,
   "id": "5efa99a6",
   "metadata": {},
   "outputs": [],
   "source": []
  },
  {
   "cell_type": "code",
   "execution_count": null,
   "id": "fd37740e",
   "metadata": {},
   "outputs": [],
   "source": []
  },
  {
   "cell_type": "code",
   "execution_count": 12,
   "id": "8a4bf670",
   "metadata": {},
   "outputs": [
    {
     "name": "stdout",
     "output_type": "stream",
     "text": [
      "City: Conakry, Distance: 16908.35 km, Latitude: 9.509200, Longitude: -13.712200, Population: 1667864.0\n",
      "City: Marseille, Distance: 16878.46 km, Latitude: 43.296400, Longitude: 5.370000, Population: 870731.0\n",
      "City: Leeds, Distance: 16918.58 km, Latitude: 53.800300, Longitude: -1.549700, Population: 789194.0\n",
      "City: Glasgow, Distance: 16909.61 km, Latitude: 55.861100, Longitude: -4.250000, Population: 626410.0\n",
      "City: Mamou, Distance: 16906.50 km, Latitude: 10.383300, Longitude: -12.083300, Population: 376269.0\n",
      "City: Bradford, Distance: 16929.34 km, Latitude: 53.800000, Longitude: -1.750000, Population: 293277.0\n",
      "City: Sétif, Distance: 16898.46 km, Latitude: 36.190000, Longitude: 5.410000, Population: 288461.0\n",
      "City: Peterborough, Distance: 16921.05 km, Latitude: 52.566200, Longitude: -0.236600, Population: 194000.0\n",
      "City: York, Distance: 16882.98 km, Latitude: 53.960100, Longitude: -1.078000, Population: 181131.0\n",
      "City: Kindia, Distance: 16916.48 km, Latitude: 10.049700, Longitude: -12.854200, Population: 181126.0\n",
      "City: Saint-Étienne, Distance: 16910.38 km, Latitude: 45.434700, Longitude: 4.390300, Population: 173821.0\n",
      "City: Southend, Distance: 16921.50 km, Latitude: 51.550000, Longitude: 0.710000, Population: 160257.0\n",
      "City: El Eulma, Distance: 16873.00 km, Latitude: 36.152800, Longitude: 5.690000, Population: 155038.0\n",
      "City: Amiens, Distance: 16902.01 km, Latitude: 49.892000, Longitude: 2.299000, Population: 134706.0\n",
      "City: Jijel, Distance: 16872.14 km, Latitude: 36.820600, Longitude: 5.766700, Population: 131513.0\n",
      "City: Lincoln, Distance: 16898.89 km, Latitude: 53.228300, Longitude: -0.538900, Population: 130200.0\n",
      "City: Cambridge, Distance: 16920.97 km, Latitude: 52.205300, Longitude: 0.119200, Population: 123867.0\n",
      "City: Colchester, Distance: 16891.52 km, Latitude: 51.891700, Longitude: 0.903000, Population: 121859.0\n",
      "City: Chelmsford, Distance: 16925.76 km, Latitude: 51.730000, Longitude: 0.480000, Population: 115369.0\n",
      "City: Doncaster, Distance: 16913.65 km, Latitude: 53.523100, Longitude: -1.133900, Population: 109805.0\n"
     ]
    }
   ],
   "source": [
    "import pandas as pd\n",
    "from geopy.distance import geodesic\n",
    "\n",
    "# Given coordinates\n",
    "latitude = -33.76419518416683\n",
    "longitude = 151.11151640760338\n",
    "\n",
    "# Target distance range in kilometers\n",
    "min_distance = 16870\n",
    "max_distance = 16930\n",
    "\n",
    "# Load the city data from the CSV file\n",
    "city_data = pd.read_csv(\"worldcities.csv\")\n",
    "\n",
    "# Filter cities that are within the target distance range and have a population over 100,000\n",
    "selected_cities = []\n",
    "for _, city in city_data.iterrows():\n",
    "    city_coordinates = (city[\"Latitude\"], city[\"Longitude\"])\n",
    "    distance = geodesic((latitude, longitude), city_coordinates).kilometers\n",
    "    if min_distance <= distance <= max_distance and city[\"Population\"] > 100000:\n",
    "        selected_cities.append({\n",
    "            \"name\": city[\"City\"],\n",
    "            \"distance\": distance,\n",
    "            \"latitude\": city[\"Latitude\"],\n",
    "            \"longitude\": city[\"Longitude\"],\n",
    "            \"population\": city[\"Population\"]\n",
    "        })\n",
    "\n",
    "# Print the selected cities\n",
    "for city in selected_cities:\n",
    "    print(f\"City: {city['name']}, Distance: {city['distance']:.2f} km, Latitude: {city['latitude']:.6f}, Longitude: {city['longitude']:.6f}, Population: {city['population']}\")"
   ]
  },
  {
   "cell_type": "code",
   "execution_count": null,
   "id": "e6cbca71",
   "metadata": {},
   "outputs": [],
   "source": [
    "import pandas as pd\n",
    "from geopy.distance import geodesic\n",
    "\n",
    "def find_city_distance(city1, city2, city_data):\n",
    "    def get_city_info(city_name):\n",
    "        city_info = city_data.loc[city_data['City'] == city_name]\n",
    "        return city_info.to_dict(orient='records')[0] if not city_info.empty else None\n",
    "\n",
    "    city1_info = get_city_info(city1)\n",
    "    city2_info = get_city_info(city2)\n",
    "\n",
    "    if city1_info and city2_info:\n",
    "        city1_coordinates = (city1_info[\"Latitude\"], city1_info[\"Longitude\"])\n",
    "        city2_coordinates = (city2_info[\"Latitude\"], city2_info[\"Longitude\"])\n",
    "        distance = geodesic(city1_coordinates, city2_coordinates).kilometers\n",
    "\n",
    "        return {\n",
    "            \"city1\": city1_info,\n",
    "            \"city2\": city2_info,\n",
    "            \"distance\": distance\n",
    "        }\n",
    "\n",
    "    return None\n",
    "\n",
    "def main():\n",
    "    # Load the city data from the CSV file\n",
    "    city_data = pd.read_csv(\"cities.csv\")\n",
    "\n",
    "    # Get user input for city names\n",
    "    city1_name = input(\"Enter the first city name: \")\n",
    "    city2_name = input(\"Enter the second city name: \")\n",
    "\n",
    "    # Find city distance and information\n",
    "    result = find_city_distance(city1_name, city2_name, city_data)\n",
    "\n",
    "    if result:\n",
    "        print(f\"Distance between {city1_name} and {city2_name}: {result['distance']:.2f} km\")\n",
    "        print(f\"Information about {city1_name}:\")\n",
    "        print(result['city1'])\n",
    "        print(f\"Information about {city2_name}:\")\n",
    "        print(result['city2'])\n",
    "    else:\n",
    "        print(\"One or both cities not found in the database.\")\n",
    "\n",
    "if __name__ == \"__main__\":\n",
    "    main()\n"
   ]
  },
  {
   "cell_type": "code",
   "execution_count": 4,
   "id": "7da64caf",
   "metadata": {},
   "outputs": [
    {
     "name": "stdout",
     "output_type": "stream",
     "text": [
      "Enter the first city name: paris\n",
      "Enter the second city name: istanbul\n",
      "Distance between paris and istanbul: 2258.77 km\n",
      "Information about paris:\n",
      "{'city': 'Paris', 'city_ascii': 'Paris', 'lat': 48.8567, 'lng': 2.3522, 'country': 'France', 'iso2': 'FR', 'iso3': 'FRA', 'admin_name': 'Île-de-France', 'capital': 'primary', 'population': 11060000.0, 'id': 1250015082}\n",
      "Information about istanbul:\n",
      "{'city': 'Istanbul', 'city_ascii': 'Istanbul', 'lat': 41.0136, 'lng': 28.955, 'country': 'Turkey', 'iso2': 'TR', 'iso3': 'TUR', 'admin_name': 'İstanbul', 'capital': 'admin', 'population': 16079000.0, 'id': 1792756324}\n"
     ]
    }
   ],
   "source": [
    "import pandas as pd\n",
    "from geopy.distance import geodesic\n",
    "\n",
    "def find_city_distance(city1, city2, city_data):\n",
    "    def get_city_info(city_name):\n",
    "        city_info = city_data.loc[city_data['city_ascii'].str.lower() == city_name.lower()]  # Use 'city_ascii' and convert to lowercase for case-insensitive search\n",
    "        return city_info.to_dict(orient='records')[0] if not city_info.empty else None\n",
    "\n",
    "    city1_info = get_city_info(city1)\n",
    "    city2_info = get_city_info(city2)\n",
    "\n",
    "    if city1_info and city2_info:\n",
    "        city1_coordinates = (city1_info[\"lat\"], city1_info[\"lng\"])  # Use the correct column names\n",
    "        city2_coordinates = (city2_info[\"lat\"], city2_info[\"lng\"])  # Use the correct column names\n",
    "        distance = geodesic(city1_coordinates, city2_coordinates).kilometers\n",
    "\n",
    "        return {\n",
    "            \"city1\": city1_info,\n",
    "            \"city2\": city2_info,\n",
    "            \"distance\": distance\n",
    "        }\n",
    "\n",
    "    return None\n",
    "\n",
    "def main():\n",
    "    # Load the city data from the CSV file\n",
    "    city_data = pd.read_csv(\"data/worldcities.csv\")  # Make sure the path is correct\n",
    "\n",
    "    # Get user input for city names\n",
    "    city1_name = input(\"Enter the first city name: \")\n",
    "    city2_name = input(\"Enter the second city name: \")\n",
    "\n",
    "    # Find city distance and information\n",
    "    result = find_city_distance(city1_name, city2_name, city_data)\n",
    "\n",
    "    if result:\n",
    "        print(f\"Distance between {city1_name} and {city2_name}: {result['distance']:.2f} km\")\n",
    "        print(f\"Information about {city1_name}:\")\n",
    "        print(result['city1'])\n",
    "        print(f\"Information about {city2_name}:\")\n",
    "        print(result['city2'])\n",
    "    else:\n",
    "        print(\"One or both cities not found in the database.\")\n",
    "\n",
    "if __name__ == \"__main__\":\n",
    "    main()\n"
   ]
  }
 ],
 "metadata": {
  "kernelspec": {
   "display_name": "Python 3 (ipykernel)",
   "language": "python",
   "name": "python3"
  },
  "language_info": {
   "codemirror_mode": {
    "name": "ipython",
    "version": 3
   },
   "file_extension": ".py",
   "mimetype": "text/x-python",
   "name": "python",
   "nbconvert_exporter": "python",
   "pygments_lexer": "ipython3",
   "version": "3.11.2"
  }
 },
 "nbformat": 4,
 "nbformat_minor": 5
}
